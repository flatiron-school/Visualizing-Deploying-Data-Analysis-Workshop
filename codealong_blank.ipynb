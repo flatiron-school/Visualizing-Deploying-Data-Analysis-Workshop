{
 "cells": [
  {
   "cell_type": "markdown",
   "metadata": {},
   "source": [
    "# Visualizing and Deploying Data Analysis Using Python Workshop"
   ]
  },
  {
   "cell_type": "markdown",
   "metadata": {},
   "source": [
    "![Data Science Process from AJ Goldstein](images/ajgoldstein-datascienceprocess.png)\n",
    "\n",
    "[Image Source](https://ajgoldsteindotcom.wordpress.com/2017/11/12/deconstructing-data-science/)"
   ]
  },
  {
   "cell_type": "markdown",
   "metadata": {},
   "source": [
    "There are many ways to break down the Data Science Process - I like this representation because it keeps things high level and emphasizes that the process is circular. \n",
    "\n",
    "Today we're focusing on Steps 3, 4 & 6 in the above breakdown of the data science process. We'll walk through a scenario and some collected data to focus on how you can process and explore data, then communicate your findings. \n",
    "\n",
    "Let's get started!"
   ]
  },
  {
   "cell_type": "markdown",
   "metadata": {},
   "source": [
    "![Front of the Austin Animal Center building](images/austin-animal-center-front.jpeg)\n",
    "\n",
    "## Scenario\n",
    "\n",
    "The Austin Animal Center keeps great records of their animal intakes, but it's a lot of data. Your task - to process and find some initial high-level insights to start figuring out what trends are in the data. But insights left in a notebook like this are wasted - you also want to visualize what you've found to showcase to others!\n",
    "\n",
    "## The Data\n",
    "\n",
    "[Austin Animal Center Intakes Data](https://data.austintexas.gov/Health-and-Community-Services/Austin-Animal-Center-Intakes/wter-evkm/) - updated pretty much every day!\n",
    "\n",
    "Note - I did some initial pre-processing, and used an additional library to add more details to the location data provided (finding associated latitudes, longitudes and zipcodes for about a third of the data we'll use today).\n",
    "\n",
    "## The Questions\n",
    "\n",
    "1. What kind of animals are brought into the Center?\n",
    "\n",
    "2. How has the number of animals brought in changed over time?\n",
    "\n",
    "3. Where are most of the animals found?"
   ]
  },
  {
   "cell_type": "markdown",
   "metadata": {},
   "source": [
    "## Getting Started"
   ]
  },
  {
   "cell_type": "code",
   "execution_count": null,
   "metadata": {},
   "outputs": [],
   "source": [
    "# Imports\n",
    "# Pandas for data manipulation\n",
    "\n",
    "# Plotly for data visualization\n"
   ]
  },
  {
   "cell_type": "code",
   "execution_count": null,
   "metadata": {},
   "outputs": [],
   "source": [
    "# Read in the data\n"
   ]
  },
  {
   "cell_type": "code",
   "execution_count": null,
   "metadata": {},
   "outputs": [],
   "source": [
    "# Check it out - let's look at the first five rows\n"
   ]
  },
  {
   "cell_type": "code",
   "execution_count": null,
   "metadata": {},
   "outputs": [],
   "source": [
    "# Let's also look some information on the data\n"
   ]
  },
  {
   "cell_type": "code",
   "execution_count": null,
   "metadata": {
    "scrolled": true
   },
   "outputs": [],
   "source": [
    "# And let's see if we can describe it to find trends\n",
    "df.describe()"
   ]
  },
  {
   "cell_type": "markdown",
   "metadata": {},
   "source": [
    "## Question 1: What kind of animals are brought into the Center?\n",
    "\n",
    "Just need one column for this - the Animal Type."
   ]
  },
  {
   "cell_type": "code",
   "execution_count": null,
   "metadata": {},
   "outputs": [],
   "source": [
    "# Explore the breakdown of the Animal Type column\n"
   ]
  },
  {
   "cell_type": "code",
   "execution_count": null,
   "metadata": {},
   "outputs": [],
   "source": [
    "# Wow - birds and livestock make up such a small percentage\n",
    "# Let's lump them in with 'Other' for a more effective visualization with replace\n"
   ]
  },
  {
   "cell_type": "code",
   "execution_count": null,
   "metadata": {},
   "outputs": [],
   "source": [
    "# Now let's see how that changed\n"
   ]
  },
  {
   "cell_type": "code",
   "execution_count": null,
   "metadata": {},
   "outputs": [],
   "source": [
    "# Capture that output in a variable - then reset the index to make it a dataframe\n"
   ]
  },
  {
   "cell_type": "code",
   "execution_count": null,
   "metadata": {},
   "outputs": [],
   "source": [
    "# Explore the variable we just created - we should rename these columns!\n"
   ]
  },
  {
   "cell_type": "code",
   "execution_count": null,
   "metadata": {},
   "outputs": [],
   "source": [
    "# So let's do that - rename the columns to actually describe the data\n"
   ]
  },
  {
   "cell_type": "code",
   "execution_count": null,
   "metadata": {},
   "outputs": [],
   "source": [
    "# Check our work\n"
   ]
  },
  {
   "cell_type": "code",
   "execution_count": null,
   "metadata": {},
   "outputs": [],
   "source": [
    "# Visualize it! With the world's most controversial chart... a pie chart\n",
    "# https://plotly.com/python/pie-charts/\n"
   ]
  },
  {
   "cell_type": "markdown",
   "metadata": {},
   "source": [
    "## Question 2: How has the number of animals brought in changed over time?\n",
    "\n",
    "Here we'll need to look at our DateTime column - but also get an idea of the number of animals arriving per day. Time for a group by!"
   ]
  },
  {
   "cell_type": "code",
   "execution_count": null,
   "metadata": {},
   "outputs": [],
   "source": [
    "# Let's explore our DateTime column using describe\n"
   ]
  },
  {
   "cell_type": "code",
   "execution_count": null,
   "metadata": {},
   "outputs": [],
   "source": [
    "# Pandas isn't recognizing this as a datetime object - let's fix that\n"
   ]
  },
  {
   "cell_type": "code",
   "execution_count": null,
   "metadata": {},
   "outputs": [],
   "source": [
    "# Check our work using describe again\n"
   ]
  },
  {
   "cell_type": "code",
   "execution_count": null,
   "metadata": {},
   "outputs": [],
   "source": [
    "# We won't need the hour/minute/second data - just the date\n",
    "# Can use normalize on the datetime attribute of this column to fix it\n"
   ]
  },
  {
   "cell_type": "code",
   "execution_count": null,
   "metadata": {},
   "outputs": [],
   "source": [
    "# Let's save that output as a new column, Date\n"
   ]
  },
  {
   "cell_type": "code",
   "execution_count": null,
   "metadata": {},
   "outputs": [],
   "source": [
    "# Check our work - let's use info\n"
   ]
  },
  {
   "cell_type": "code",
   "execution_count": null,
   "metadata": {},
   "outputs": [],
   "source": [
    "# Now - time for that group by!\n",
    "# Let's explore what's happening in the groupby, then save it to a variable\n"
   ]
  },
  {
   "cell_type": "code",
   "execution_count": null,
   "metadata": {},
   "outputs": [],
   "source": [
    "# Time for a line chart!\n",
    "# https://plotly.com/python/line-charts/\n"
   ]
  },
  {
   "cell_type": "code",
   "execution_count": null,
   "metadata": {
    "scrolled": true
   },
   "outputs": [],
   "source": [
    "# Woah - that's a bit messy. Let's just look at a montly breakdown\n",
    "# We can resample, then grab the sum per month\n"
   ]
  },
  {
   "cell_type": "code",
   "execution_count": null,
   "metadata": {},
   "outputs": [],
   "source": [
    "# Time for another line chart!\n"
   ]
  },
  {
   "cell_type": "code",
   "execution_count": null,
   "metadata": {},
   "outputs": [],
   "source": [
    "# Looks like we have an annual trend - let's take a better look...\n",
    "# Let's go back to our original dataframe and create a new groupby for this...\n",
    "# First - grab out the Year and Month as new columns\n"
   ]
  },
  {
   "cell_type": "code",
   "execution_count": null,
   "metadata": {},
   "outputs": [],
   "source": [
    "# Check our work...\n"
   ]
  },
  {
   "cell_type": "code",
   "execution_count": null,
   "metadata": {},
   "outputs": [],
   "source": [
    "# A new groupby - now with two columns to group by!\n",
    "# Let's explore, reset the index for clarity, then save to a variable\n"
   ]
  },
  {
   "cell_type": "code",
   "execution_count": null,
   "metadata": {},
   "outputs": [],
   "source": [
    "# One last line chart!\n"
   ]
  },
  {
   "cell_type": "markdown",
   "metadata": {},
   "source": [
    "## Question 3: Where are most of the animals found?\n",
    "\n",
    "Last question! Here, we'll start playing with map objects, using some of our location data.\n",
    "\n",
    "Let's group by the number of animals found at each location."
   ]
  },
  {
   "cell_type": "code",
   "execution_count": null,
   "metadata": {},
   "outputs": [],
   "source": [
    "# First - let's explore our Found Location column\n"
   ]
  },
  {
   "cell_type": "code",
   "execution_count": null,
   "metadata": {},
   "outputs": [],
   "source": [
    "# Now - let's just see the animals that we have precise location details for\n",
    "# How can we get just the animals with Found Zipcode details?\n",
    "# Let's save that new subset dataframe to a new variable\n"
   ]
  },
  {
   "cell_type": "code",
   "execution_count": null,
   "metadata": {},
   "outputs": [],
   "source": [
    "# Now let's check our the breakdown of our Found Location column\n"
   ]
  },
  {
   "cell_type": "code",
   "execution_count": null,
   "metadata": {},
   "outputs": [],
   "source": [
    "# Time to group by! We want the count of animals at each location\n",
    "# Note - we want the latitude and longitude too, to visualize in a minute\n"
   ]
  },
  {
   "cell_type": "code",
   "execution_count": null,
   "metadata": {},
   "outputs": [],
   "source": [
    "# Let's rename that Animal ID column to be descriptive\n"
   ]
  },
  {
   "cell_type": "code",
   "execution_count": null,
   "metadata": {},
   "outputs": [],
   "source": [
    "# Check our work\n"
   ]
  },
  {
   "cell_type": "code",
   "execution_count": null,
   "metadata": {
    "scrolled": false
   },
   "outputs": [],
   "source": [
    "# Now... map time!\n",
    "# https://plotly.com/python/mapbox-layers/\n"
   ]
  },
  {
   "cell_type": "markdown",
   "metadata": {},
   "source": [
    "## Move to Streamlit!\n",
    "\n",
    "Now that we've answered our three questions - let's open up our `app.py` file in this folder to see how this can translate to Streamlit.\n",
    "\n",
    "If you're running this at home, instead of in Binder, you can also run the app using the terminal command `streamlit run app.py`\n",
    "\n",
    "Or - check out the deployed version! https://austin-animal-center-data.herokuapp.com/"
   ]
  },
  {
   "cell_type": "markdown",
   "metadata": {},
   "source": [
    "### Thank you for joining us!"
   ]
  }
 ],
 "metadata": {
  "kernelspec": {
   "display_name": "Python 3",
   "language": "python",
   "name": "python3"
  },
  "language_info": {
   "codemirror_mode": {
    "name": "ipython",
    "version": 3
   },
   "file_extension": ".py",
   "mimetype": "text/x-python",
   "name": "python",
   "nbconvert_exporter": "python",
   "pygments_lexer": "ipython3",
   "version": "3.8.5"
  }
 },
 "nbformat": 4,
 "nbformat_minor": 5
}
